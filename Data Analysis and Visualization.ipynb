{
 "cells": [
  {
   "cell_type": "code",
   "execution_count": 1,
   "metadata": {},
   "outputs": [],
   "source": [
    "import pandas as pd\n",
    "import numpy as np\n",
    "import seaborn as sns\n",
    "\n",
    "%matplotlib inline\n",
    "from matplotlib import pyplot as plt\n",
    "plt.style.use('ggplot')"
   ]
  },
  {
   "cell_type": "code",
   "execution_count": 2,
   "metadata": {},
   "outputs": [],
   "source": [
    "#Import file\n",
    "total_data = pd.read_csv('total_data.csv')\n"
   ]
  },
  {
   "cell_type": "code",
   "execution_count": 3,
   "metadata": {
    "scrolled": false
   },
   "outputs": [],
   "source": [
    "total_data2 = total_data.copy()"
   ]
  },
  {
   "cell_type": "markdown",
   "metadata": {},
   "source": [
    "## Plot difference between crit and user review"
   ]
  },
  {
   "cell_type": "code",
   "execution_count": 4,
   "metadata": {},
   "outputs": [],
   "source": [
    "total_data2['crit_user_difference'] = total_data2['critic_score']-total_data2['user_score']"
   ]
  },
  {
   "cell_type": "code",
   "execution_count": 5,
   "metadata": {},
   "outputs": [
    {
     "ename": "NameError",
     "evalue": "name 'year2019' is not defined",
     "output_type": "error",
     "traceback": [
      "\u001b[0;31m---------------------------------------------------------------------------\u001b[0m",
      "\u001b[0;31mNameError\u001b[0m                                 Traceback (most recent call last)",
      "\u001b[0;32m<ipython-input-5-9c3cf2c6a5da>\u001b[0m in \u001b[0;36m<module>\u001b[0;34m\u001b[0m\n\u001b[0;32m----> 1\u001b[0;31m \u001b[0myear2019\u001b[0m \u001b[0;34m=\u001b[0m \u001b[0myear2019\u001b[0m\u001b[0;34m[\u001b[0m\u001b[0myear2019\u001b[0m\u001b[0;34m[\u001b[0m\u001b[0;34m'year'\u001b[0m\u001b[0;34m]\u001b[0m\u001b[0;34m>=\u001b[0m\u001b[0;36m2010\u001b[0m\u001b[0;34m]\u001b[0m\u001b[0;34m\u001b[0m\u001b[0;34m\u001b[0m\u001b[0m\n\u001b[0m",
      "\u001b[0;31mNameError\u001b[0m: name 'year2019' is not defined"
     ]
    }
   ],
   "source": [
    "\n",
    "year2019 = year2019[year2019['year']>=2010]"
   ]
  },
  {
   "cell_type": "code",
   "execution_count": null,
   "metadata": {},
   "outputs": [],
   "source": [
    "before2009 = total_data2.copy()\n",
    "before2009 = before2009[(before2009['year']<= 2009) & (before2009['year'] > 2000)]"
   ]
  },
  {
   "cell_type": "markdown",
   "metadata": {},
   "source": [
    "### Plotting Critic Review v. User Review (w/ certified status)"
   ]
  },
  {
   "cell_type": "code",
   "execution_count": null,
   "metadata": {
    "scrolled": true
   },
   "outputs": [],
   "source": [
    "#years 2010-2019\n",
    "sns.lmplot(\"critic_score\",\"user_score\",year2019, hue=\"certified_status\", palette={\"Rotten\":\"C0\",\"Fresh\":\"C1\",\"Certified Fresh\":\"C2\",\"DNE\":\"C3\"})"
   ]
  },
  {
   "cell_type": "code",
   "execution_count": null,
   "metadata": {
    "scrolled": true
   },
   "outputs": [],
   "source": [
    "#Years 2000-2009\n",
    "sns.lmplot(\"critic_score\",\"user_score\",before2009, hue=\"certified_status\", palette={\"Rotten\":\"C0\",\"Fresh\":\"C1\",\"Certified Fresh\":\"C2\",\"DNE\":\"C3\"})"
   ]
  },
  {
   "cell_type": "markdown",
   "metadata": {},
   "source": [
    "### Plotting negative outliers (critic and user) v. box office"
   ]
  },
  {
   "cell_type": "code",
   "execution_count": null,
   "metadata": {},
   "outputs": [],
   "source": [
    "crit_analysis = total_data2[(total_data2['crit_user_difference']< -30) & (total_data['count_critic_review']>40)]"
   ]
  },
  {
   "cell_type": "code",
   "execution_count": null,
   "metadata": {},
   "outputs": [],
   "source": [
    "# Year 2010-2019\n",
    "crit_analysis2019 = crit_analysis[crit_analysis['year']>=2010]\n",
    "#Year 2000-2009\n",
    "crit_analysisbef10 = crit_analysis[(crit_analysis['year']<= 2009) & (crit_analysis['year'] > 2000)]"
   ]
  },
  {
   "cell_type": "code",
   "execution_count": null,
   "metadata": {},
   "outputs": [],
   "source": [
    "crit_analysis2019"
   ]
  },
  {
   "cell_type": "code",
   "execution_count": null,
   "metadata": {
    "scrolled": true
   },
   "outputs": [],
   "source": [
    "#Year 2010-2019, worldwidebox\n",
    "lm2 = sns.lmplot(\"crit_user_difference\",\"worldwide_box\",crit_analysis2019,hue=\"certified_status\", palette={\"Rotten\":\"C0\",\"Fresh\":\"C1\",\"Certified Fresh\":\"C2\",\"DNE\":\"C3\"})\n",
    "lm2.set(xlim=(-70,-30))\n",
    "lm2.set(ylim=(0,1.2e9))"
   ]
  },
  {
   "cell_type": "code",
   "execution_count": null,
   "metadata": {
    "scrolled": false
   },
   "outputs": [],
   "source": [
    "#Year 2010-2019, domestic box office\n",
    "lm3 = sns.lmplot(\"crit_user_difference\",\"domestic_box\",crit_analysis2019)\n",
    "lm3.set(xlim=(-70,-30))\n",
    "lm3.set(ylim=(0,5.5e8))"
   ]
  },
  {
   "cell_type": "code",
   "execution_count": null,
   "metadata": {
    "scrolled": false
   },
   "outputs": [],
   "source": [
    "#Year 2000-2009, worldwide box\n",
    "lm = sns.lmplot(\"crit_user_difference\",\"worldwide_box\",crit_analysisbef10)\n",
    "lm.set(ylim=(0,1.2e9))"
   ]
  },
  {
   "cell_type": "code",
   "execution_count": null,
   "metadata": {},
   "outputs": [],
   "source": [
    "#Year 2000-2009, domestic box\n",
    "lm4 = sns.lmplot(\"crit_user_difference\",\"domestic_box\",crit_analysisbef10)\n",
    "lm4.set(xlim=(-70,-30))\n",
    "lm4.set(ylim=(0,5.5e8))"
   ]
  },
  {
   "cell_type": "code",
   "execution_count": null,
   "metadata": {},
   "outputs": [],
   "source": []
  },
  {
   "cell_type": "code",
   "execution_count": null,
   "metadata": {
    "scrolled": true
   },
   "outputs": [],
   "source": [
    "b = sns.jointplot(before2009['critic_score'],before2009['user_score'], color='k')"
   ]
  },
  {
   "cell_type": "markdown",
   "metadata": {},
   "source": [
    "### Worldwide Box Office v. Production Budget"
   ]
  },
  {
   "cell_type": "code",
   "execution_count": null,
   "metadata": {},
   "outputs": [],
   "source": [
    "crit_user_df = total_data2.copy()"
   ]
  },
  {
   "cell_type": "code",
   "execution_count": null,
   "metadata": {},
   "outputs": [],
   "source": [
    "#Year 2010-2019\n",
    "year1 = total_data2[total_data2['year']>= 2010]\n",
    "#Year 2000-2009\n",
    "year2 = total_data2[(total_data2['year']<= 2009) & (total_data2['year'] > 2000)]"
   ]
  },
  {
   "cell_type": "code",
   "execution_count": null,
   "metadata": {},
   "outputs": [],
   "source": [
    "#year 2004- 2019\n",
    "year3 = total_data2[total_data2['year']>=2004]\n",
    "#year 1989-2004\n",
    "year4 = total_data2[total_data2['year']<2004]"
   ]
  },
  {
   "cell_type": "code",
   "execution_count": null,
   "metadata": {},
   "outputs": [],
   "source": [
    "filterdf = total_data2[total_data2['production_budget'].notna()].copy()"
   ]
  },
  {
   "cell_type": "markdown",
   "metadata": {},
   "source": [
    "### Profit / Ratio analysis"
   ]
  },
  {
   "cell_type": "code",
   "execution_count": null,
   "metadata": {},
   "outputs": [],
   "source": [
    "#Find the profit(loss) of the films\n",
    "filterdf['profit'] = filterdf['worldwide_box']-filterdf['production_budget']\n",
    "\n",
    "#Find the ratio of worldwide box office to production budget\n",
    "filterdf['ratio'] = filterdf['worldwide_box']/filterdf['production_budget']"
   ]
  },
  {
   "cell_type": "code",
   "execution_count": null,
   "metadata": {},
   "outputs": [],
   "source": [
    "filterdf.to_csv('ratio.csv')"
   ]
  },
  {
   "cell_type": "code",
   "execution_count": null,
   "metadata": {},
   "outputs": [],
   "source": [
    "filterdf[['ratio']].describe()"
   ]
  },
  {
   "cell_type": "code",
   "execution_count": null,
   "metadata": {},
   "outputs": [],
   "source": [
    "filteredf2 = filterdf.copy()\n",
    "filterdf2 = filterdf2[(filterdf2['crit_user_difference']< -30) & (filterdf2['count_critic_review']>40)]"
   ]
  },
  {
   "cell_type": "code",
   "execution_count": null,
   "metadata": {},
   "outputs": [],
   "source": [
    "#Year 2010-2019, profit/loss\n",
    "year5 = filterdf[filterdf['year']>= 2010]\n",
    "#Year 2000-2009, profit/loss\n",
    "year6 = filterdf[(filterdf['year']<= 2009) & (filterdf['year'] > 2000)]"
   ]
  },
  {
   "cell_type": "code",
   "execution_count": null,
   "metadata": {
    "scrolled": true
   },
   "outputs": [],
   "source": [
    "#Year 2010-2019, worldwide box office profit v. crit user difference\n",
    "lm5 = sns.lmplot(\"crit_user_difference\",\"profit\",year5,hue=\"certified_status\", palette={\"Rotten\":\"C0\",\"Fresh\":\"C1\",\"Certified Fresh\":\"C2\",\"DNE\":\"C3\"}, height=15)"
   ]
  },
  {
   "cell_type": "code",
   "execution_count": null,
   "metadata": {
    "scrolled": true
   },
   "outputs": [],
   "source": [
    "#Year 2000-2009, worldwide box office profit v crit_user difference\n",
    "lm6 = sns.lmplot(\"crit_user_difference\",\"profit\",year6,hue=\"certified_status\", palette={\"Rotten\":\"C0\",\"Fresh\":\"C1\",\"Certified Fresh\":\"C2\",\"DNE\":\"C3\"}, height=15)"
   ]
  },
  {
   "cell_type": "code",
   "execution_count": null,
   "metadata": {
    "scrolled": true
   },
   "outputs": [],
   "source": [
    "#Year 2000-2009, worldwide box office profit v crit_user difference\n",
    "lm8 = sns.lmplot(\"crit_user_difference\",\"ratio\",year6,hue=\"certified_status\", palette={\"Rotten\":\"C0\",\"Fresh\":\"C1\",\"Certified Fresh\":\"C2\",\"DNE\":\"C3\"}, height=15)\n",
    "lm8.set(ylim=(0,120))"
   ]
  },
  {
   "cell_type": "code",
   "execution_count": null,
   "metadata": {},
   "outputs": [],
   "source": [
    "# Year 2010-2019, worldwide box office profit v. crit user difference\n",
    "lm7 = sns.lmplot(\"crit_user_difference\",\"ratio\",year5,hue=\"certified_status\", palette={\"Rotten\":\"C0\",\"Fresh\":\"C1\",\"Certified Fresh\":\"C2\",\"DNE\":\"C3\"}, height=15)"
   ]
  },
  {
   "cell_type": "code",
   "execution_count": null,
   "metadata": {
    "scrolled": true
   },
   "outputs": [],
   "source": [
    "#Group up by year\n",
    "profittable = filterdf[(filterdf['year']>2010)].groupby(['year'])['profit'].describe()"
   ]
  },
  {
   "cell_type": "code",
   "execution_count": null,
   "metadata": {},
   "outputs": [],
   "source": [
    "sns.jointplot(x='production_budget',y='worldwide_box', data = year1,kind='scatter')"
   ]
  },
  {
   "cell_type": "code",
   "execution_count": null,
   "metadata": {
    "scrolled": false
   },
   "outputs": [],
   "source": [
    "sns.jointplot(x='production_budget',y='worldwide_box', data = year2,kind='scatter')"
   ]
  },
  {
   "cell_type": "code",
   "execution_count": null,
   "metadata": {},
   "outputs": [],
   "source": [
    "sns.jointplot(x='production_budget',y='worldwide_box', data = year3,kind='scatter')"
   ]
  },
  {
   "cell_type": "code",
   "execution_count": null,
   "metadata": {},
   "outputs": [],
   "source": [
    "sns.jointplot(x='production_budget',y='worldwide_box', data = year4,kind='scatter')"
   ]
  },
  {
   "cell_type": "code",
   "execution_count": null,
   "metadata": {},
   "outputs": [],
   "source": []
  },
  {
   "cell_type": "code",
   "execution_count": null,
   "metadata": {},
   "outputs": [],
   "source": []
  },
  {
   "cell_type": "code",
   "execution_count": null,
   "metadata": {},
   "outputs": [],
   "source": []
  },
  {
   "cell_type": "code",
   "execution_count": null,
   "metadata": {},
   "outputs": [],
   "source": []
  },
  {
   "cell_type": "code",
   "execution_count": null,
   "metadata": {},
   "outputs": [],
   "source": []
  },
  {
   "cell_type": "code",
   "execution_count": null,
   "metadata": {},
   "outputs": [],
   "source": []
  },
  {
   "cell_type": "code",
   "execution_count": null,
   "metadata": {},
   "outputs": [],
   "source": []
  }
 ],
 "metadata": {
  "kernelspec": {
   "display_name": "Python 3",
   "language": "python",
   "name": "python3"
  },
  "language_info": {
   "codemirror_mode": {
    "name": "ipython",
    "version": 3
   },
   "file_extension": ".py",
   "mimetype": "text/x-python",
   "name": "python",
   "nbconvert_exporter": "python",
   "pygments_lexer": "ipython3",
   "version": "3.7.6"
  }
 },
 "nbformat": 4,
 "nbformat_minor": 4
}
