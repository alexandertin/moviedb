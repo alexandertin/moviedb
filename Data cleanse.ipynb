{
 "cells": [
  {
   "cell_type": "code",
   "execution_count": null,
   "metadata": {},
   "outputs": [],
   "source": [
    "import numpy as np\n",
    "import pandas as pd\n"
   ]
  },
  {
   "cell_type": "markdown",
   "metadata": {},
   "source": [
    "# Data Cleansing"
   ]
  },
  {
   "cell_type": "markdown",
   "metadata": {},
   "source": [
    "## \"Numbers\" data"
   ]
  },
  {
   "cell_type": "code",
   "execution_count": null,
   "metadata": {},
   "outputs": [],
   "source": [
    "numbers = pd.read_csv('boxoffice.csv')"
   ]
  },
  {
   "cell_type": "code",
   "execution_count": null,
   "metadata": {},
   "outputs": [],
   "source": [
    "num_clean = numbers.copy()\n",
    "num_clean = pd.DataFrame(num_clean)"
   ]
  },
  {
   "cell_type": "code",
   "execution_count": null,
   "metadata": {
    "scrolled": true
   },
   "outputs": [],
   "source": [
    "num_clean"
   ]
  },
  {
   "cell_type": "code",
   "execution_count": null,
   "metadata": {},
   "outputs": [],
   "source": [
    "type(num_clean)"
   ]
  },
  {
   "cell_type": "markdown",
   "metadata": {},
   "source": [
    "#### Domestic Box, International Box, Worldwide Box clean"
   ]
  },
  {
   "cell_type": "code",
   "execution_count": null,
   "metadata": {
    "scrolled": false
   },
   "outputs": [],
   "source": [
    "# Convert Domestic Box to be ready for data analysis\n",
    "num_clean['domestic_box'] = num_clean['domestic_box'].str.lstrip('$')\n",
    "num_clean['domestic_box'] = num_clean['domestic_box'].str.replace(',','')\n",
    "num_clean['domestic_box'] = num_clean['domestic_box'].fillna(0)\n",
    "num_clean['domestic_box'] = num_clean['domestic_box'].astype(int)"
   ]
  },
  {
   "cell_type": "code",
   "execution_count": null,
   "metadata": {},
   "outputs": [],
   "source": [
    "# Convert International Box for data analysis\n",
    "num_clean['international_box'] = num_clean['international_box'].str.lstrip('$')\n",
    "num_clean['international_box'] = num_clean['international_box'].str.replace(',','')\n",
    "num_clean['international_box'] = num_clean['international_box'].fillna(0)\n",
    "num_clean['international_box'] = num_clean['international_box'].astype(int)"
   ]
  },
  {
   "cell_type": "code",
   "execution_count": null,
   "metadata": {
    "scrolled": true
   },
   "outputs": [],
   "source": [
    "#Convert Worldwide Box for data analysis\n",
    "num_clean['worldwide_box'] = num_clean['worldwide_box'].str.lstrip('$')\n",
    "num_clean['worldwide_box'] = num_clean['worldwide_box'].str.replace(',','')\n",
    "num_clean['worldwide_box'] = num_clean['worldwide_box'].fillna(0)\n",
    "num_clean['worldwide_box'] = num_clean['worldwide_box'].astype(int)"
   ]
  },
  {
   "cell_type": "code",
   "execution_count": null,
   "metadata": {},
   "outputs": [],
   "source": [
    "# Correct for missing values on website. Worldwide = Domestic + International\n",
    "num_clean['worldwide_box'] = num_clean['domestic_box'] + num_clean['international_box']"
   ]
  },
  {
   "cell_type": "code",
   "execution_count": null,
   "metadata": {},
   "outputs": [],
   "source": [
    "num_clean"
   ]
  },
  {
   "cell_type": "markdown",
   "metadata": {},
   "source": [
    "#### Production Budget clean"
   ]
  },
  {
   "cell_type": "code",
   "execution_count": null,
   "metadata": {},
   "outputs": [],
   "source": [
    "#Copy dataset\n",
    "num_clean2 = num_clean.copy()\n"
   ]
  },
  {
   "cell_type": "code",
   "execution_count": null,
   "metadata": {},
   "outputs": [],
   "source": [
    "#Clean production budget for data analysis\n",
    "num_clean2['production_budget'] = num_clean2['production_budget'].str.lstrip('$')\n",
    "num_clean2['production_budget'] = num_clean2['production_budget'].str.replace(',','')\n",
    "num_clean2['production_budget'] = num_clean2['production_budget'].str.split(' \\(').str[0]\n",
    "num_clean2['production_budget'] = num_clean2['production_budget'].str.replace('DNE','NaN')\n"
   ]
  },
  {
   "cell_type": "code",
   "execution_count": null,
   "metadata": {
    "scrolled": true
   },
   "outputs": [],
   "source": [
    "num_clean2"
   ]
  },
  {
   "cell_type": "markdown",
   "metadata": {},
   "source": [
    "#### Release Date clean"
   ]
  },
  {
   "cell_type": "code",
   "execution_count": null,
   "metadata": {
    "scrolled": true
   },
   "outputs": [],
   "source": [
    "# Copy dataset\n",
    "num_clean3 = num_clean2.copy()"
   ]
  },
  {
   "cell_type": "code",
   "execution_count": null,
   "metadata": {},
   "outputs": [],
   "source": [
    "#Strip unnecessary text from date field\n",
    "num_clean3['domestic_release'] = num_clean3['domestic_release'].str.split(' \\(').str[0]"
   ]
  },
  {
   "cell_type": "code",
   "execution_count": null,
   "metadata": {},
   "outputs": [],
   "source": [
    "# def datestrip(s):\n",
    "#     return re.sub(r'')"
   ]
  },
  {
   "cell_type": "markdown",
   "metadata": {},
   "source": [
    "#### Movie Title"
   ]
  },
  {
   "cell_type": "code",
   "execution_count": null,
   "metadata": {},
   "outputs": [],
   "source": [
    "#Create copy\n",
    "num_clean4 = num_clean3.copy()"
   ]
  },
  {
   "cell_type": "code",
   "execution_count": null,
   "metadata": {},
   "outputs": [],
   "source": [
    "#Create two columns with original data\n",
    "movieyear = num_clean4['movie_title'].str.split(' \\(',n=1,expand=True)\n",
    "movieyear[1] = movieyear[1].str.rstrip('\\)')"
   ]
  },
  {
   "cell_type": "code",
   "execution_count": null,
   "metadata": {
    "scrolled": false
   },
   "outputs": [],
   "source": [
    "# Create column for movie name and year separately. Remove original column\n",
    "num_clean4['movie_name'] = movieyear[0]\n",
    "num_clean4['year'] = movieyear[1]\n",
    "num_clean4.drop(columns = ['movie_title'], inplace=True)"
   ]
  },
  {
   "cell_type": "code",
   "execution_count": null,
   "metadata": {
    "scrolled": true
   },
   "outputs": [],
   "source": [
    "num_clean4"
   ]
  },
  {
   "cell_type": "markdown",
   "metadata": {},
   "source": [
    "#### Running Time"
   ]
  },
  {
   "cell_type": "code",
   "execution_count": null,
   "metadata": {},
   "outputs": [],
   "source": [
    "num_clean5 = num_clean4.copy()"
   ]
  },
  {
   "cell_type": "code",
   "execution_count": null,
   "metadata": {},
   "outputs": [],
   "source": [
    "num_clean5['running_time'] = num_clean5['running_time'].str.replace('DNE','NaN')\n",
    "num_clean5['running_time'] = num_clean5['running_time'].str.split(' ').str[0]\n"
   ]
  },
  {
   "cell_type": "code",
   "execution_count": null,
   "metadata": {
    "scrolled": true
   },
   "outputs": [],
   "source": [
    "num_clean5"
   ]
  },
  {
   "cell_type": "code",
   "execution_count": null,
   "metadata": {},
   "outputs": [],
   "source": [
    "num_clean5.groupby('source')['international_box','worldwide_box'].describe()"
   ]
  },
  {
   "cell_type": "markdown",
   "metadata": {},
   "source": [
    "## RottenTomatoes data"
   ]
  },
  {
   "cell_type": "code",
   "execution_count": null,
   "metadata": {},
   "outputs": [],
   "source": [
    "rotten = pd.read_csv('rottentomatoes.csv')"
   ]
  },
  {
   "cell_type": "code",
   "execution_count": null,
   "metadata": {},
   "outputs": [],
   "source": [
    "rottenclean = rotten.copy()\n",
    "rottenclean"
   ]
  },
  {
   "cell_type": "markdown",
   "metadata": {},
   "source": [
    "#### User review count"
   ]
  },
  {
   "cell_type": "code",
   "execution_count": null,
   "metadata": {},
   "outputs": [],
   "source": [
    "# Remove \"User Ratings:\"\n",
    "rottenclean['count_user_review'] = rottenclean['count_user_review'].str.split(':').str[1]\n",
    "#Remove \"Not yet available\"\n",
    "rottenclean['count_user_review'] = rottenclean['count_user_review'].str.replace('Not yet available','0')\n",
    "#Remove commas\n",
    "rottenclean['count_user_review'] = rottenclean['count_user_review'].str.replace(',','')\n",
    "#Convert to int\n",
    "rottenclean['count_user_review'] = rottenclean['count_user_review'].astype(int)\n",
    "\n",
    "# Convert \"Not yet available\" which was '0' back to integers\n",
    "rottenclean['count_user_review'] = rottenclean['count_user_review'].replace(0,'NaN')\n"
   ]
  },
  {
   "cell_type": "code",
   "execution_count": null,
   "metadata": {
    "scrolled": false
   },
   "outputs": [],
   "source": [
    "rottenclean"
   ]
  },
  {
   "cell_type": "markdown",
   "metadata": {},
   "source": [
    "#### Convert all other necessary columns to integers"
   ]
  },
  {
   "cell_type": "code",
   "execution_count": null,
   "metadata": {},
   "outputs": [],
   "source": [
    "rottenclean2 = rottenclean.copy()"
   ]
  },
  {
   "cell_type": "code",
   "execution_count": null,
   "metadata": {
    "scrolled": true
   },
   "outputs": [],
   "source": [
    "#Convert critic score to int\n",
    "rottenclean2['critic_score'] = rottenclean2['critic_score'].str.rstrip('\\%')\n",
    "rottenclean2['critic_score'] = rottenclean2['critic_score'].dropna().astype(int)\n",
    "\n",
    "#Convert count_critic_review to int\n",
    "rottenclean2['count_critic_review'] = rottenclean2['count_critic_review'].dropna().astype(int)\n",
    "\n",
    "#Convert user_score to int\n",
    "rottenclean2['user_score'] = rottenclean2['user_score'].str.rstrip('\\%')\n",
    "rottenclean2['user_score'] = rottenclean2['user_score'].dropna().astype(int)\n",
    "\n",
    "\n",
    "\n",
    "\n",
    "# rottenclean2['count_critic_review'] = rottenclean2['count_critic_review'].astype(int)"
   ]
  },
  {
   "cell_type": "code",
   "execution_count": null,
   "metadata": {},
   "outputs": [],
   "source": [
    "rottenclean2"
   ]
  },
  {
   "cell_type": "code",
   "execution_count": null,
   "metadata": {
    "scrolled": true
   },
   "outputs": [],
   "source": [
    "rottenclean2.groupby(['certified_status'])['critic_score','user_score'].describe()"
   ]
  },
  {
   "cell_type": "markdown",
   "metadata": {},
   "source": [
    "## Combine \"Numbers\" and \"RottenTomatoes\" tables"
   ]
  },
  {
   "cell_type": "markdown",
   "metadata": {},
   "source": [
    "rottenclean2  - movie_name\n",
    "num_clean5 - movie_name"
   ]
  },
  {
   "cell_type": "code",
   "execution_count": null,
   "metadata": {},
   "outputs": [],
   "source": [
    "RT_an = rottenclean2.copy()\n",
    "Num_an = num_clean5.copy()"
   ]
  },
  {
   "cell_type": "code",
   "execution_count": null,
   "metadata": {},
   "outputs": [],
   "source": [
    "rotten_clean2.columns()"
   ]
  },
  {
   "cell_type": "code",
   "execution_count": null,
   "metadata": {},
   "outputs": [],
   "source": [
    "total_data = pd.merge(Num_an,RT_an, how = 'left', left_on='movie_name', right_on='movie_name')"
   ]
  },
  {
   "cell_type": "code",
   "execution_count": null,
   "metadata": {},
   "outputs": [],
   "source": [
    "total_data.groupby('certified_status')['critic_score','user_score'].describe()"
   ]
  },
  {
   "cell_type": "code",
   "execution_count": null,
   "metadata": {},
   "outputs": [],
   "source": [
    "total_data.to_csv('total_data.csv')"
   ]
  },
  {
   "cell_type": "code",
   "execution_count": null,
   "metadata": {},
   "outputs": [],
   "source": [
    "type(total_data.production_country[1])"
   ]
  },
  {
   "cell_type": "markdown",
   "metadata": {},
   "source": [
    "#### Production Country split (Production Country analysis)\n",
    "\n",
    "Create a \"branch\" of the dataset to do Product Country analysis"
   ]
  },
  {
   "cell_type": "code",
   "execution_count": null,
   "metadata": {},
   "outputs": [],
   "source": [
    "# Make copy of aggregated dataframe\n",
    "total_data2 = total_data.copy()"
   ]
  },
  {
   "cell_type": "code",
   "execution_count": null,
   "metadata": {},
   "outputs": [],
   "source": [
    "total_data2.production_country.head()"
   ]
  },
  {
   "cell_type": "code",
   "execution_count": null,
   "metadata": {},
   "outputs": [],
   "source": [
    "list(enumerate(total_data2.production_country))"
   ]
  },
  {
   "cell_type": "code",
   "execution_count": null,
   "metadata": {},
   "outputs": [],
   "source": [
    "list_ = []\n",
    "for index, item in enumerate(total_data2.production_country):\n",
    "    list_.extend(map(lambda x: [index, x], item))\n",
    "    \n",
    "prod_coun_df = pd.DataFrame(list_,columns=['index','production_countries'])"
   ]
  },
  {
   "cell_type": "code",
   "execution_count": null,
   "metadata": {},
   "outputs": [],
   "source": [
    "prod_coun = pd.merge(total_data2, prod_coun_df, how='right',left_index=True,right_on='index')"
   ]
  },
  {
   "cell_type": "code",
   "execution_count": null,
   "metadata": {},
   "outputs": [],
   "source": [
    "prod_coun = prod_coun.drop('production_country', axis=1)"
   ]
  },
  {
   "cell_type": "code",
   "execution_count": null,
   "metadata": {
    "scrolled": true
   },
   "outputs": [],
   "source": [
    "prod_coun.head(40)"
   ]
  },
  {
   "cell_type": "markdown",
   "metadata": {},
   "source": [
    "#### Language split (Language analysis split)\n",
    "\n",
    "Don't forget to default back to previous complete dataframe.\n",
    "\n",
    "Need to create a separate \"branch\" for data analysis"
   ]
  },
  {
   "cell_type": "code",
   "execution_count": null,
   "metadata": {},
   "outputs": [],
   "source": [
    "langs = total_data2.copy()"
   ]
  },
  {
   "cell_type": "code",
   "execution_count": null,
   "metadata": {},
   "outputs": [],
   "source": [
    "langs.language = langs.language.apply(lambda x: x.split(','))"
   ]
  },
  {
   "cell_type": "code",
   "execution_count": null,
   "metadata": {},
   "outputs": [],
   "source": [
    "list(enumerate(langs.language))"
   ]
  },
  {
   "cell_type": "code",
   "execution_count": null,
   "metadata": {},
   "outputs": [],
   "source": [
    "list_ = []\n",
    "for index, item in enumerate(langs.language):\n",
    "    list_.extend(map(lambda x: [index, x], item))\n",
    "    \n",
    "lang_df = pd.DataFrame(list_,columns=['index','languages'])"
   ]
  },
  {
   "cell_type": "code",
   "execution_count": null,
   "metadata": {},
   "outputs": [],
   "source": [
    "lang_df = pd.merge(langs, lang_df, how='right',left_index=True,right_on='index')"
   ]
  },
  {
   "cell_type": "code",
   "execution_count": null,
   "metadata": {
    "scrolled": true
   },
   "outputs": [],
   "source": [
    "lang_df.head(40)"
   ]
  },
  {
   "cell_type": "code",
   "execution_count": null,
   "metadata": {},
   "outputs": [],
   "source": []
  }
 ],
 "metadata": {
  "kernelspec": {
   "display_name": "Python 3",
   "language": "python",
   "name": "python3"
  },
  "language_info": {
   "codemirror_mode": {
    "name": "ipython",
    "version": 3
   },
   "file_extension": ".py",
   "mimetype": "text/x-python",
   "name": "python",
   "nbconvert_exporter": "python",
   "pygments_lexer": "ipython3",
   "version": "3.7.6"
  }
 },
 "nbformat": 4,
 "nbformat_minor": 4
}
